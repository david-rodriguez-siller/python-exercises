{
 "cells": [
  {
   "cell_type": "markdown",
   "id": "7e872615",
   "metadata": {},
   "source": [
    "# 17 list comprehension problems in python"
   ]
  },
  {
   "cell_type": "code",
   "execution_count": 30,
   "id": "71796843",
   "metadata": {},
   "outputs": [],
   "source": [
    "fruits = ['mango', 'kiwi', 'strawberry', 'guava', 'pineapple', 'mandarin orange']\n",
    "\n",
    "numbers = [2, 3, 4, 5, 6, 7, 8, 9, 10, 11, 13, 17, 19, 23, 256, -8, -4, -2, 5, -9]"
   ]
  },
  {
   "cell_type": "markdown",
   "id": "6e41d2aa",
   "metadata": {},
   "source": [
    "### Example for loop solution to add 1 to each number in the list"
   ]
  },
  {
   "cell_type": "code",
   "execution_count": 5,
   "id": "4f9b05cd",
   "metadata": {},
   "outputs": [
    {
     "data": {
      "text/plain": [
       "[3, 4, 5, 6, 7, 8, 9, 10, 11, 12, 14, 18, 20, 24, 257, -7, -3, -1, 6, -8]"
      ]
     },
     "execution_count": 5,
     "metadata": {},
     "output_type": "execute_result"
    }
   ],
   "source": [
    "numbers_plus_one = []\n",
    "for number in numbers:\n",
    "    numbers_plus_one.append(number + 1)\n",
    " \n",
    "numbers_plus_one"
   ]
  },
  {
   "cell_type": "markdown",
   "id": "98947424",
   "metadata": {},
   "source": [
    "### Example of using a list comprehension to create a list of the numbers plus one."
   ]
  },
  {
   "cell_type": "code",
   "execution_count": 6,
   "id": "5d669681",
   "metadata": {},
   "outputs": [
    {
     "data": {
      "text/plain": [
       "[3, 4, 5, 6, 7, 8, 9, 10, 11, 12, 14, 18, 20, 24, 257, -7, -3, -1, 6, -8]"
      ]
     },
     "execution_count": 6,
     "metadata": {},
     "output_type": "execute_result"
    }
   ],
   "source": [
    "numbers_plus_one = [number + 1 for number in numbers]\n",
    "\n",
    "numbers_plus_one"
   ]
  },
  {
   "cell_type": "markdown",
   "id": "0f0d52b9",
   "metadata": {},
   "source": [
    "### Example code that creates a list of all of the list of strings in fruits and uppercases every string"
   ]
  },
  {
   "cell_type": "code",
   "execution_count": 10,
   "id": "650a1bc6",
   "metadata": {},
   "outputs": [
    {
     "data": {
      "text/plain": [
       "['MANGO', 'KIWI', 'STRAWBERRY', 'GUAVA', 'PINEAPPLE', 'MANDARIN ORANGE']"
      ]
     },
     "execution_count": 10,
     "metadata": {},
     "output_type": "execute_result"
    }
   ],
   "source": [
    "output = []\n",
    "for fruit in fruits:\n",
    "    output.append(fruit.upper())\n",
    "    \n",
    "output    "
   ]
  },
  {
   "cell_type": "markdown",
   "id": "95564e65",
   "metadata": {},
   "source": [
    "#### Exercise 1 - rewrite the above example code using list comprehension syntax. Make a variable named uppercased_fruits to hold the output of the list comprehension. Output should be ['MANGO', 'KIWI', etc...]"
   ]
  },
  {
   "cell_type": "code",
   "execution_count": 11,
   "id": "63d842c9",
   "metadata": {},
   "outputs": [
    {
     "data": {
      "text/plain": [
       "['MANGO', 'KIWI', 'STRAWBERRY', 'GUAVA', 'PINEAPPLE', 'MANDARIN ORANGE']"
      ]
     },
     "execution_count": 11,
     "metadata": {},
     "output_type": "execute_result"
    }
   ],
   "source": [
    "uppercased_fruits = []\n",
    "\n",
    "for fruit in fruits:\n",
    "    uppercased_fruits.append(fruit.upper())\n",
    "\n",
    "uppercased_fruits"
   ]
  },
  {
   "cell_type": "markdown",
   "id": "4ad11560",
   "metadata": {},
   "source": [
    "#### Exercise 2 - create a variable named capitalized_fruits and use list comprehension syntax to produce output like ['Mango', 'Kiwi', 'Strawberry', etc...]"
   ]
  },
  {
   "cell_type": "code",
   "execution_count": 12,
   "id": "d490f448",
   "metadata": {},
   "outputs": [
    {
     "data": {
      "text/plain": [
       "['Mango', 'Kiwi', 'Strawberry', 'Guava', 'Pineapple', 'Mandarin orange']"
      ]
     },
     "execution_count": 12,
     "metadata": {},
     "output_type": "execute_result"
    }
   ],
   "source": [
    "capitalized_fruits = []\n",
    "\n",
    "for fruit in fruits:\n",
    "    capitalized_fruits.append(fruit.capitalize())\n",
    "    \n",
    "capitalized_fruits"
   ]
  },
  {
   "cell_type": "markdown",
   "id": "3721aab2",
   "metadata": {},
   "source": [
    "#### Exercise 3 - Use a list comprehension to make a variable named fruits_with_more_than_two_vowels. Hint: You'll need a way to check if something is a vowel."
   ]
  },
  {
   "cell_type": "code",
   "execution_count": 36,
   "id": "bd699e10",
   "metadata": {},
   "outputs": [
    {
     "name": "stdout",
     "output_type": "stream",
     "text": [
      "['guava', 'pineapple', 'mandarin orange']\n"
     ]
    }
   ],
   "source": [
    "vowel = 'aeiou'\n",
    "fruits_with_more_than_two_vowels = [fruit for fruit in fruits if len([letter for letter in fruit if letter.lower() in vowel]) > 2] \n",
    "print(fruits_with_more_than_two_vowels)"
   ]
  },
  {
   "cell_type": "markdown",
   "id": "b8f23ced",
   "metadata": {},
   "source": [
    "#### Exercise 4 - make a variable named fruits_with_only_two_vowels. The result should be ['mango', 'kiwi', 'strawberry']"
   ]
  },
  {
   "cell_type": "code",
   "execution_count": 38,
   "id": "7b067feb",
   "metadata": {},
   "outputs": [
    {
     "name": "stdout",
     "output_type": "stream",
     "text": [
      "['mango', 'kiwi', 'strawberry']\n"
     ]
    }
   ],
   "source": [
    "vowel = 'aeiou'\n",
    "fruits_with_only_two_vowels = [fruit for fruit in fruits if len([letter for letter in fruit if letter.lower() in vowel]) == 2] \n",
    "print(fruits_with_only_two_vowels)"
   ]
  },
  {
   "cell_type": "markdown",
   "id": "b1cbeb1e",
   "metadata": {},
   "source": [
    "#### Exercise 5 - make a list that contains each fruit with more than 5 characters"
   ]
  },
  {
   "cell_type": "code",
   "execution_count": 19,
   "id": "203ba0d4",
   "metadata": {},
   "outputs": [
    {
     "data": {
      "text/plain": [
       "['strawberry', 'pineapple', 'mandarin orange']"
      ]
     },
     "execution_count": 19,
     "metadata": {},
     "output_type": "execute_result"
    }
   ],
   "source": [
    "[fruit for fruit in fruits if len(fruit) > 5]"
   ]
  },
  {
   "cell_type": "markdown",
   "id": "d2803a00",
   "metadata": {},
   "source": [
    "#### Exercise 6 - make a list that contains each fruit with exactly 5 characters"
   ]
  },
  {
   "cell_type": "code",
   "execution_count": 16,
   "id": "086e7cb2",
   "metadata": {},
   "outputs": [
    {
     "data": {
      "text/plain": [
       "['mango', 'guava']"
      ]
     },
     "execution_count": 16,
     "metadata": {},
     "output_type": "execute_result"
    }
   ],
   "source": [
    "[fruit for fruit in fruits if len(fruit) == 5]"
   ]
  },
  {
   "cell_type": "markdown",
   "id": "905ae22c",
   "metadata": {},
   "source": [
    "#### Exercise 7 - Make a list that contains fruits that have less than 5 characters"
   ]
  },
  {
   "cell_type": "code",
   "execution_count": 18,
   "id": "58c9187a",
   "metadata": {},
   "outputs": [
    {
     "data": {
      "text/plain": [
       "['kiwi']"
      ]
     },
     "execution_count": 18,
     "metadata": {},
     "output_type": "execute_result"
    }
   ],
   "source": [
    "[fruit for fruit in fruits if len(fruit) < 5]"
   ]
  },
  {
   "cell_type": "markdown",
   "id": "4e0222ca",
   "metadata": {},
   "source": [
    "#### Exercise 8 - Make a list containing the number of characters in each fruit. Output would be [5, 4, 10, etc... ]"
   ]
  },
  {
   "cell_type": "code",
   "execution_count": 23,
   "id": "8a8ac70b",
   "metadata": {},
   "outputs": [
    {
     "data": {
      "text/plain": [
       "[5, 4, 10, 5, 9, 15]"
      ]
     },
     "execution_count": 23,
     "metadata": {},
     "output_type": "execute_result"
    }
   ],
   "source": [
    "fruit_length = [len(fruit) for fruit in fruits]\n",
    "\n",
    "fruit_length"
   ]
  },
  {
   "cell_type": "markdown",
   "id": "ccb3cd43",
   "metadata": {},
   "source": [
    "#### Exercise 9 - Make a variable named fruits_with_letter_a that contains a list of only the fruits that contain the letter \"a\""
   ]
  },
  {
   "cell_type": "code",
   "execution_count": 52,
   "id": "a2a3234e",
   "metadata": {},
   "outputs": [
    {
     "data": {
      "text/plain": [
       "['mango', 'strawberry', 'guava', 'pineapple', 'mandarin orange']"
      ]
     },
     "execution_count": 52,
     "metadata": {},
     "output_type": "execute_result"
    }
   ],
   "source": [
    "fruits_with_letter_a = [fruit for fruit in fruits if 'a' in fruit]\n",
    "fruits_with_letter_a"
   ]
  },
  {
   "cell_type": "markdown",
   "id": "25bbf248",
   "metadata": {},
   "source": [
    "#### Exercise 10 - Make a variable named even_numbers that holds only the even numbers "
   ]
  },
  {
   "cell_type": "code",
   "execution_count": 53,
   "id": "4ee0bdef",
   "metadata": {},
   "outputs": [
    {
     "data": {
      "text/plain": [
       "[2, 4, 6, 8, 10, 256, -8, -4, -2]"
      ]
     },
     "execution_count": 53,
     "metadata": {},
     "output_type": "execute_result"
    }
   ],
   "source": [
    "even_numbers = [number for number in numbers if number % 2 == 0]\n",
    "even_numbers"
   ]
  },
  {
   "cell_type": "markdown",
   "id": "249109ec",
   "metadata": {},
   "source": [
    "#### Exercise 11 - Make a variable named odd_numbers that holds only the odd numbers"
   ]
  },
  {
   "cell_type": "code",
   "execution_count": 54,
   "id": "baa5da6a",
   "metadata": {},
   "outputs": [
    {
     "data": {
      "text/plain": [
       "[3, 5, 7, 9, 11, 13, 17, 19, 23, 5, -9]"
      ]
     },
     "execution_count": 54,
     "metadata": {},
     "output_type": "execute_result"
    }
   ],
   "source": [
    "odd_numbers = [number for number in numbers if number % 2 != 0]\n",
    "odd_numbers"
   ]
  },
  {
   "cell_type": "markdown",
   "id": "36d3ffd2",
   "metadata": {},
   "source": [
    "#### Exercise 12 - Make a variable named positive_numbers that holds only the positive numbers"
   ]
  },
  {
   "cell_type": "code",
   "execution_count": 31,
   "id": "4236c225",
   "metadata": {},
   "outputs": [
    {
     "data": {
      "text/plain": [
       "[2, 3, 4, 5, 6, 7, 8, 9, 10, 11, 13, 17, 19, 23, 256, 5]"
      ]
     },
     "execution_count": 31,
     "metadata": {},
     "output_type": "execute_result"
    }
   ],
   "source": [
    "positive_numbers = []\n",
    "\n",
    "for number in numbers:\n",
    "        if number > 0:\n",
    "            positive_numbers.append(number)\n",
    "            \n",
    "positive_numbers"
   ]
  },
  {
   "cell_type": "markdown",
   "id": "c4e69656",
   "metadata": {},
   "source": [
    "#### Exercise 13 - Make a variable named negative_numbers that holds only the negative numbers"
   ]
  },
  {
   "cell_type": "code",
   "execution_count": 32,
   "id": "6d799f2b",
   "metadata": {},
   "outputs": [
    {
     "data": {
      "text/plain": [
       "[-8, -4, -2, -9]"
      ]
     },
     "execution_count": 32,
     "metadata": {},
     "output_type": "execute_result"
    }
   ],
   "source": [
    "negative_numbers = []\n",
    "\n",
    "for number in numbers:\n",
    "        if number < 0:\n",
    "            negative_numbers.append(number)\n",
    "            \n",
    "negative_numbers"
   ]
  },
  {
   "cell_type": "markdown",
   "id": "ac8ba366",
   "metadata": {},
   "source": [
    "#### Exercise 14 - use a list comprehension w/ a conditional in order to produce a list of numbers with 2 or more numerals"
   ]
  },
  {
   "cell_type": "code",
   "execution_count": 57,
   "id": "656952c4",
   "metadata": {},
   "outputs": [
    {
     "data": {
      "text/plain": [
       "[10, 11, 13, 17, 19, 23, 256, -8, -4, -2, -9]"
      ]
     },
     "execution_count": 57,
     "metadata": {},
     "output_type": "execute_result"
    }
   ],
   "source": [
    "two_numerals = [number for number in numbers if len(str(number)) >= 2]\n",
    "two_numerals"
   ]
  },
  {
   "cell_type": "markdown",
   "id": "3b3a06cf",
   "metadata": {},
   "source": [
    "##### Exercise 15 - Make a variable named numbers_squared that contains the numbers list with each element squared. Output is [4, 9, 16, etc...]"
   ]
  },
  {
   "cell_type": "code",
   "execution_count": 58,
   "id": "0177fb70",
   "metadata": {},
   "outputs": [
    {
     "data": {
      "text/plain": [
       "[4,\n",
       " 9,\n",
       " 16,\n",
       " 25,\n",
       " 36,\n",
       " 49,\n",
       " 64,\n",
       " 81,\n",
       " 100,\n",
       " 121,\n",
       " 169,\n",
       " 289,\n",
       " 361,\n",
       " 529,\n",
       " 65536,\n",
       " 64,\n",
       " 16,\n",
       " 4,\n",
       " 25,\n",
       " 81]"
      ]
     },
     "execution_count": 58,
     "metadata": {},
     "output_type": "execute_result"
    }
   ],
   "source": [
    "numbers_squared = []\n",
    "for number in numbers:\n",
    "    numbers_squared.append(number ** 2)\n",
    "numbers_squared"
   ]
  },
  {
   "cell_type": "markdown",
   "id": "78449dc9",
   "metadata": {},
   "source": [
    "#### Exercise 16 - Make a variable named odd_negative_numbers that contains only the numbers that are both odd and negative."
   ]
  },
  {
   "cell_type": "code",
   "execution_count": 60,
   "id": "9c338405",
   "metadata": {},
   "outputs": [
    {
     "data": {
      "text/plain": [
       "[-9]"
      ]
     },
     "execution_count": 60,
     "metadata": {},
     "output_type": "execute_result"
    }
   ],
   "source": [
    "odd_negative_numbers = [number for number in numbers if number < 0 and number % 2 != 0]\n",
    "odd_negative_numbers"
   ]
  },
  {
   "cell_type": "markdown",
   "id": "5c1089df",
   "metadata": {},
   "source": [
    "#### Exercise 17 - Make a variable named numbers_plus_5. In it, return a list containing each number plus five. "
   ]
  },
  {
   "cell_type": "code",
   "execution_count": 61,
   "id": "af33b2d3",
   "metadata": {},
   "outputs": [
    {
     "data": {
      "text/plain": [
       "[7, 8, 9, 10, 11, 12, 13, 14, 15, 16, 18, 22, 24, 28, 261, -3, 1, 3, 10, -4]"
      ]
     },
     "execution_count": 61,
     "metadata": {},
     "output_type": "execute_result"
    }
   ],
   "source": [
    "numbers_plus_5 = [number + 5 for number in numbers]\n",
    "numbers_plus_5"
   ]
  },
  {
   "cell_type": "markdown",
   "id": "ef1da0fd",
   "metadata": {},
   "source": [
    "#### BONUS Make a variable named \"primes\" that is a list containing the prime numbers in the numbers list. *Hint* you may want to make or find a helper function that determines if a given number is prime or not."
   ]
  },
  {
   "cell_type": "code",
   "execution_count": 70,
   "id": "aa5e09b4",
   "metadata": {},
   "outputs": [
    {
     "data": {
      "text/plain": [
       "[2, 3, 5, 7, 11, 13, 17, 19, 23, 5]"
      ]
     },
     "execution_count": 70,
     "metadata": {},
     "output_type": "execute_result"
    }
   ],
   "source": [
    "def is_prime(number):\n",
    "    if number <= 0:\n",
    "        return False\n",
    "    else:\n",
    "        dividers = [i for i in range(2, number)]\n",
    "        return len([divider for divider in dividers if number % divider == 0]) == 0\n",
    "primes = [number for number in numbers if is_prime(number)]\n",
    "primes"
   ]
  },
  {
   "cell_type": "code",
   "execution_count": null,
   "id": "1b4d51ee",
   "metadata": {},
   "outputs": [],
   "source": []
  }
 ],
 "metadata": {
  "kernelspec": {
   "display_name": "Python 3 (ipykernel)",
   "language": "python",
   "name": "python3"
  },
  "language_info": {
   "codemirror_mode": {
    "name": "ipython",
    "version": 3
   },
   "file_extension": ".py",
   "mimetype": "text/x-python",
   "name": "python",
   "nbconvert_exporter": "python",
   "pygments_lexer": "ipython3",
   "version": "3.7.3"
  }
 },
 "nbformat": 4,
 "nbformat_minor": 5
}
