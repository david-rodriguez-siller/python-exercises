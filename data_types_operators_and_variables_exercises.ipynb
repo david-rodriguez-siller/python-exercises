{
 "cells": [
  {
   "cell_type": "markdown",
   "id": "c5459b7f",
   "metadata": {},
   "source": [
    "### Identify the following values:"
   ]
  },
  {
   "cell_type": "code",
   "execution_count": 4,
   "id": "cdd7f5af",
   "metadata": {},
   "outputs": [
    {
     "name": "stdout",
     "output_type": "stream",
     "text": [
      "The data type for this value is:  <class 'float'>\n",
      "The data type for this value is:  <class 'str'>\n",
      "The data type for this value is:  <class 'bool'>\n",
      "The data type for this value is:  <class 'str'>\n",
      "The data type for this value is:  <class 'int'>\n",
      "The data type for this value is:  <class 'bool'>\n",
      "The data type for this value is:  <class 'str'>\n",
      "The data type for this value is:  <class 'list'>\n",
      "The data type for this value is:  <class 'dict'>\n"
     ]
    }
   ],
   "source": [
    "print('The data type for this value is: ', type(99.9))\n",
    "print('The data type for this value is: ', type(\"False\"))\n",
    "print('The data type for this value is: ', type(False))\n",
    "print('The data type for this value is: ', type('0'))\n",
    "print('The data type for this value is: ', type(0))\n",
    "print('The data type for this value is: ', type(True))\n",
    "print('The data type for this value is: ', type('TRUE'))\n",
    "print('The data type for this value is: ', type([{}]))\n",
    "print('The data type for this value is: ', type({'a': []}))"
   ]
  },
  {
   "cell_type": "markdown",
   "id": "f50698b8",
   "metadata": {},
   "source": [
    "### What data type would best represent:\n",
    "\n",
    "- A term or phrase typed into a search box? \n",
    " - Answer: A string.\n",
    "- If a user is logged in? \n",
    " - Answer: Boolean.\n",
    "- A discount amount to apply to a user's shopping cart? \n",
    " - Answer: Float.\n",
    "- Whether or not a coupon code is valid? \n",
    " - Answer: List.\n",
    "- An email address typed into a registration form? \n",
    " - Answer: A string.\n",
    "- The price of a product? \n",
    " - Answer: Float.\n",
    "- A Matrix? \n",
    " - Answer: List.\n",
    "- The email addresses collected from a registration form? \n",
    " - Answer: A string.\n",
    "- Information about applicants to Codeup's data science program? d\n",
    " - Answer: Dictionary."
   ]
  },
  {
   "cell_type": "markdown",
   "id": "c80650f1",
   "metadata": {},
   "source": [
    "### For each of the following code blocks, read the expression and predict what the result of evaluating it would be, then execute the expression in your Python REPL."
   ]
  },
  {
   "cell_type": "markdown",
   "id": "d3889114",
   "metadata": {},
   "source": [
    "##\n",
    "\n",
    "- '1' + 2\n",
    " - TypeError\n",
    "- 6 % 4\n",
    " - 2\n",
    "- type(6 % 4)\n",
    " - INT\n",
    "- type(type(6 % 4))\n",
    " - type\n",
    "- '3 + 4 is ' + 3 + 4\n",
    " - TypeError\n",
    "- 0 < 0\n",
    " - False\n",
    "- 'False' == False\n",
    " - Error\n",
    "- True == 'True'\n",
    " - Error\n",
    "- 5 >= -5\n",
    " - True\n",
    "- True or \"42\"\n",
    " - True\n",
    "- 6 % 5\n",
    " - 1\n",
    "- 5 < 4 and 1 == 1\n",
    " - False\n",
    "- 'codeup' == 'codeup' and 'codeup' == 'Codeup'\n",
    " - False\n",
    "- 4 >= 0 and 1 !== '1'\n",
    " - SintaxError\n",
    "- 6 % 3 == 0\n",
    " - True\n",
    "- 5 % 2 != 0\n",
    " - True\n",
    "- [1] + 2\n",
    " - TypeError\n",
    "- [1] + [2]\n",
    " - [1, 2]\n",
    "- [1] * 2\n",
    " - [1, 1]\n",
    "- [1] * [2]\n",
    " - TypeError\n",
    "- [] + [] == []\n",
    " - True\n",
    "- {} + {}\n",
    " - TypeError"
   ]
  },
  {
   "cell_type": "code",
   "execution_count": null,
   "id": "44cd204d",
   "metadata": {},
   "outputs": [],
   "source": []
  }
 ],
 "metadata": {
  "kernelspec": {
   "display_name": "Python 3 (ipykernel)",
   "language": "python",
   "name": "python3"
  },
  "language_info": {
   "codemirror_mode": {
    "name": "ipython",
    "version": 3
   },
   "file_extension": ".py",
   "mimetype": "text/x-python",
   "name": "python",
   "nbconvert_exporter": "python",
   "pygments_lexer": "ipython3",
   "version": "3.7.3"
  }
 },
 "nbformat": 4,
 "nbformat_minor": 5
}
