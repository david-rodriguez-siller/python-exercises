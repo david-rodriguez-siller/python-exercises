{
 "cells": [
  {
   "cell_type": "markdown",
   "id": "2dd25bd6",
   "metadata": {},
   "source": [
    "#### You have rented some movies for your kids: The little mermaid (for 3 days), Brother Bear (for 5 days, they love it), and Hercules (1 day, you don't know yet if they're going to like it). If price for a movie per day is 3 dollars, how much will you have to pay?"
   ]
  },
  {
   "cell_type": "code",
   "execution_count": 1,
   "id": "71a55373",
   "metadata": {},
   "outputs": [],
   "source": [
    "the_little_mermaid = 3\n",
    "brother_bear = 5\n",
    "hercules = 1\n",
    "price_per_day = 3"
   ]
  },
  {
   "cell_type": "code",
   "execution_count": 6,
   "id": "1ef0e0c5",
   "metadata": {},
   "outputs": [
    {
     "name": "stdout",
     "output_type": "stream",
     "text": [
      "The total price for the three rented movies is:  27\n"
     ]
    }
   ],
   "source": [
    "print('The total price for the three rented movies is: ', price_per_day * (the_little_mermaid + brother_bear + hercules))"
   ]
  },
  {
   "cell_type": "markdown",
   "id": "24034e7c",
   "metadata": {},
   "source": [
    "#### Suppose you're working as a contractor for 3 companies: Google, Amazon and Facebook, they pay you a different rate per hour. Google pays 400 dollars per hour, Amazon 380, and Facebook 350. How much will you receive in payment for this week? You worked 10 hours for Facebook, 6 hours for Google and 4 hours for Amazon."
   ]
  },
  {
   "cell_type": "code",
   "execution_count": 20,
   "id": "573b1b15",
   "metadata": {},
   "outputs": [
    {
     "name": "stdout",
     "output_type": "stream",
     "text": [
      "Total google pay is:  2400\n",
      "Total amazon pay is:  1520\n",
      "Total facebook pay is:  3500\n"
     ]
    }
   ],
   "source": [
    "google = 400\n",
    "amazon = 380\n",
    "facebook = 350\n",
    "\n",
    "print('Total google pay is: ', google * 6)\n",
    "print('Total amazon pay is: ', amazon * 4)\n",
    "print('Total facebook pay is: ', facebook * 10)"
   ]
  },
  {
   "cell_type": "markdown",
   "id": "b3465019",
   "metadata": {},
   "source": [
    "#### A student can be enrolled to a class only if the class is not full and the class schedule does not conflict with her current schedule."
   ]
  },
  {
   "cell_type": "code",
   "execution_count": 21,
   "id": "5f92c76b",
   "metadata": {},
   "outputs": [
    {
     "name": "stdout",
     "output_type": "stream",
     "text": [
      "True\n"
     ]
    }
   ],
   "source": [
    "is_class_not_full = True\n",
    "is_there_class_conflict = True\n",
    "can_be_enrolled = is_class_not_full and is_there_class_conflict\n",
    "print(can_be_enrolled)"
   ]
  },
  {
   "cell_type": "markdown",
   "id": "3c74f5af",
   "metadata": {},
   "source": [
    "#### A product offer can be applied only if people buys more than 2 items, and the offer has not expired. Premium members do not need to buy a specific amount of products."
   ]
  },
  {
   "cell_type": "code",
   "execution_count": 22,
   "id": "81346cc7",
   "metadata": {},
   "outputs": [
    {
     "name": "stdout",
     "output_type": "stream",
     "text": [
      "True\n"
     ]
    }
   ],
   "source": [
    "number_items = 5\n",
    "has_offer_expired = False\n",
    "product_offer = number_items >= 2 and not has_offer_expired\n",
    "print(product_offer)"
   ]
  },
  {
   "cell_type": "markdown",
   "id": "806c3366",
   "metadata": {},
   "source": [
    "#### Use the following code to follow the instructions below:\n",
    "\n",
    "- username = 'codeup'\n",
    "- password = 'notastrongpassword'\n",
    " \n",
    "Create a variable that holds a boolean value for each of the following conditions:\n",
    "\n",
    "- the password must be at least 5 characters\n",
    "- the username must be no more than 20 characters\n",
    "- the password must not be the same as the username\n",
    "- bonus neither the username or password can start or end with whitespace"
   ]
  },
  {
   "cell_type": "code",
   "execution_count": 23,
   "id": "e4b04eca",
   "metadata": {},
   "outputs": [],
   "source": [
    "username = 'codeup'\n",
    "password = 'notastrongpassword'"
   ]
  },
  {
   "cell_type": "code",
   "execution_count": 24,
   "id": "3b9fda70",
   "metadata": {},
   "outputs": [
    {
     "name": "stdout",
     "output_type": "stream",
     "text": [
      "True\n"
     ]
    }
   ],
   "source": [
    "five_characters = len(password) >= 5\n",
    "print(five_characters)"
   ]
  },
  {
   "cell_type": "code",
   "execution_count": 25,
   "id": "8164a64d",
   "metadata": {},
   "outputs": [
    {
     "name": "stdout",
     "output_type": "stream",
     "text": [
      "True\n"
     ]
    }
   ],
   "source": [
    "twenty_characters = len(password) <= 20\n",
    "print(twenty_characters)"
   ]
  },
  {
   "cell_type": "code",
   "execution_count": 27,
   "id": "b955af92",
   "metadata": {},
   "outputs": [
    {
     "name": "stdout",
     "output_type": "stream",
     "text": [
      "True\n"
     ]
    }
   ],
   "source": [
    "same_as = username != password\n",
    "print(same_as)"
   ]
  },
  {
   "cell_type": "code",
   "execution_count": 29,
   "id": "7470e3f1",
   "metadata": {},
   "outputs": [
    {
     "name": "stdout",
     "output_type": "stream",
     "text": [
      "True\n"
     ]
    }
   ],
   "source": [
    "white_space = username != ' % ' and username != ' % '\n",
    "print(white_space)"
   ]
  },
  {
   "cell_type": "code",
   "execution_count": null,
   "id": "82a0640a",
   "metadata": {},
   "outputs": [],
   "source": []
  }
 ],
 "metadata": {
  "kernelspec": {
   "display_name": "Python 3 (ipykernel)",
   "language": "python",
   "name": "python3"
  },
  "language_info": {
   "codemirror_mode": {
    "name": "ipython",
    "version": 3
   },
   "file_extension": ".py",
   "mimetype": "text/x-python",
   "name": "python",
   "nbconvert_exporter": "python",
   "pygments_lexer": "ipython3",
   "version": "3.7.3"
  }
 },
 "nbformat": 4,
 "nbformat_minor": 5
}
