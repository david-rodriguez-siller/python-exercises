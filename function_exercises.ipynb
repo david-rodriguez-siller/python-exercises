{
 "cells": [
  {
   "cell_type": "markdown",
   "id": "36336c3b",
   "metadata": {},
   "source": [
    "### Function Exercises"
   ]
  },
  {
   "cell_type": "markdown",
   "id": "e4514003",
   "metadata": {},
   "source": [
    "1. Define a function named is_two. It should accept one input and return True if the passed input is either the number or the string 2, False otherwise."
   ]
  },
  {
   "cell_type": "code",
   "execution_count": null,
   "id": "6b5a715e",
   "metadata": {},
   "outputs": [],
   "source": [
    "def is_two(number):\n",
    "    if str(number.lower()) == 'two' or int(number) == 2:\n",
    "        return True\n",
    "    else:\n",
    "        return False\n",
    "        \n",
    "is_two('twO')"
   ]
  },
  {
   "cell_type": "markdown",
   "id": "c4a3899d",
   "metadata": {},
   "source": [
    "2. Define a function named is_vowel. It should return True if the passed string is a vowel, False otherwise."
   ]
  },
  {
   "cell_type": "code",
   "execution_count": null,
   "id": "6fad3555",
   "metadata": {},
   "outputs": [],
   "source": [
    "def is_vowel(string):\n",
    "    if len(string) > 1:\n",
    "        print(\"You must enter a single character string.\")\n",
    "    vowels = 'aeiou'\n",
    "    string = str(string)\n",
    "    string = string.lower()\n",
    "    \n",
    "    for letter in string:\n",
    "        if letter in vowels:\n",
    "            return True\n",
    "        else:\n",
    "            return False\n",
    "        \n",
    "is_vowel('a')"
   ]
  },
  {
   "cell_type": "markdown",
   "id": "687cae62",
   "metadata": {},
   "source": [
    "3. Define a function named is_consonant. It should return True if the passed string is a consonant, False otherwise. Use your is_vowel function to accomplish this."
   ]
  },
  {
   "cell_type": "code",
   "execution_count": null,
   "id": "8a27eaec",
   "metadata": {},
   "outputs": [],
   "source": [
    "def is_consonant(string):\n",
    "    if len(string) > 1:\n",
    "        print(\"You must enter a single character string.\")\n",
    "    consonants = 'bcdfghjklmnpqrstvwxyz'\n",
    "    string = str(string)\n",
    "    string = string.lower()\n",
    "    \n",
    "    for letter in string:\n",
    "        if letter in consonants:\n",
    "            return True\n",
    "        else:\n",
    "            return False\n",
    "        \n",
    "is_consonant('z')       "
   ]
  },
  {
   "cell_type": "markdown",
   "id": "fd2fe4e7",
   "metadata": {},
   "source": [
    "4. Define a function that accepts a string that is a word. The function should capitalize the first letter of the word if the word starts with a consonant."
   ]
  },
  {
   "cell_type": "code",
   "execution_count": null,
   "id": "6124bc18",
   "metadata": {},
   "outputs": [],
   "source": [
    "def cap_con(string):\n",
    "    if ' ' in string:\n",
    "        print(\"You must enter a single word string.\")\n",
    "        return\n",
    "    consonants = 'bcdfghjklmnpqrstvwxyz'\n",
    "    string = str(string)\n",
    "    if string[0] in consonants:\n",
    "        return string.capitalize()\n",
    "    \n",
    "cap_con('cool')"
   ]
  },
  {
   "cell_type": "markdown",
   "id": "9e6e2c9d",
   "metadata": {},
   "source": [
    "5. Define a function named calculate_tip. It should accept a tip percentage (a number between 0 and 1) and the bill total, and return the amount to tip."
   ]
  },
  {
   "cell_type": "code",
   "execution_count": null,
   "id": "60923de4",
   "metadata": {},
   "outputs": [],
   "source": [
    "def calculate_tip(tip_percentage, bill_total):\n",
    "    if tip_percentage > 1 or tip_percentage < 0:\n",
    "        print(\"You must enter your tip percentage as a number between 0 and 1.\")\n",
    "    print(\"Your bill total is: ${}\".format(bill_total))\n",
    "    print(\"Your desired {}% tip is: ${}\".format(tip_percentage * 100, tip_percentage * bill_total))\n",
    "\n",
    "calculate_tip(.2, 100)"
   ]
  },
  {
   "cell_type": "markdown",
   "id": "62671fd0",
   "metadata": {},
   "source": [
    "6. Define a function named apply_discount. It should accept a original price, and a discount percentage, and return the price after the discount is applied."
   ]
  },
  {
   "cell_type": "code",
   "execution_count": null,
   "id": "fed78d41",
   "metadata": {},
   "outputs": [],
   "source": [
    "def apply_discount(original_price, discount_percentage):\n",
    "    print(\"The original price of this item is: ${}\".format(original_price))\n",
    "    print(\"There is a {}% discount. The price after applying the discount is: ${}\".format(discount_percentage, original_price - (original_price * discount_percentage * .01)))\n",
    "    \n",
    "apply_discount(100, 20) "
   ]
  },
  {
   "cell_type": "markdown",
   "id": "249db902",
   "metadata": {},
   "source": [
    "7. Define a function named handle_commas. It should accept a string that is a number that contains commas in it as input, and return a number as output."
   ]
  },
  {
   "cell_type": "code",
   "execution_count": null,
   "id": "82bb74e7",
   "metadata": {},
   "outputs": [],
   "source": [
    "def handle_commas():\n",
    "    user_input = input('Enter a string made up of numbers and commas: ')\n",
    "\n",
    "    user_input = user_input.replace(',', '')\n",
    "    if user_input.isdigit():\n",
    "        return user_input\n",
    "    else:\n",
    "        print('Your input must contain commas/numbers.')\n",
    "\n",
    "handle_commas()"
   ]
  },
  {
   "cell_type": "markdown",
   "id": "5ce978a6",
   "metadata": {},
   "source": [
    "8. Define a function named get_letter_grade. It should accept a number and return the letter grade associated with that number (A-F)."
   ]
  },
  {
   "cell_type": "code",
   "execution_count": null,
   "id": "dad5dee3",
   "metadata": {},
   "outputs": [],
   "source": [
    "def get_letter_grade(score):\n",
    "    score = int(score)\n",
    "    if score > 100:\n",
    "        print(\"Please enter a grade between 0 and 100.\")\n",
    "    elif score >= 90:\n",
    "        print(\"Your grade is A\")\n",
    "    elif score >= 80:\n",
    "        print(\"Your grade is B\")\n",
    "    elif score >= 70:\n",
    "        print(\"Your grade is C\")\n",
    "    elif score >= 60:\n",
    "        print(\"Your grade is D\")\n",
    "    else:\n",
    "        print(\"Your grade is F\")\n",
    "        \n",
    "get_letter_grade(93)"
   ]
  },
  {
   "cell_type": "markdown",
   "id": "f021e515",
   "metadata": {},
   "source": [
    "9. Define a function named remove_vowels that accepts a string and returns a string with all the vowels removed."
   ]
  },
  {
   "cell_type": "code",
   "execution_count": null,
   "id": "759d095f",
   "metadata": {},
   "outputs": [],
   "source": [
    "def remove_vowels(text):\n",
    "    vowels = 'aeiou'\n",
    "    no_vowels = text\n",
    "    if type(text) != str:\n",
    "        print('Your input format must be in string.')\n",
    "    for letter in text:\n",
    "        if letter in vowels:\n",
    "            no_vowels = no_vowels.replace(letter, '')\n",
    "    return no_vowels\n",
    "\n",
    "remove_vowels('good morning')"
   ]
  },
  {
   "cell_type": "markdown",
   "id": "37db4cdc",
   "metadata": {},
   "source": [
    "10. Define a function named normalize_name. It should accept a string and return a valid python identifier, that is:\n",
    "- anything that is not a valid python identifier should be removed\n",
    "- leading and trailing whitespace should be removed\n",
    "- everything should be lowercase\n",
    "- spaces should be replaced with underscores\n",
    "- for example:\n",
    " - Name will become name\n",
    " - First Name will become first_name\n",
    " - % Completed will become completed"
   ]
  },
  {
   "cell_type": "code",
   "execution_count": null,
   "id": "22070f8e",
   "metadata": {},
   "outputs": [],
   "source": [
    "def normalize_name(text):\n",
    "    import string\n",
    "    valid_characters = string.ascii_lowercase + '1234567890_'\n",
    "    text = text.lower()\n",
    "    normalized = text\n",
    "    normalized = normalized.strip()\n",
    "    normalized = normalized.replace(' ', '_')\n",
    "    for letter in normalized:\n",
    "        if letter not in valid_characters:\n",
    "            normalized = normalized.replace(letter, '')\n",
    "        return normalized\n",
    "\n",
    "normalize_name('.dav')"
   ]
  },
  {
   "cell_type": "markdown",
   "id": "cb2ea462",
   "metadata": {},
   "source": [
    "11. Write a function named cumulative_sum that accepts a list of numbers and returns a list that is the cumulative sum of the numbers in the list.\n",
    "- cumulative_sum([1, 1, 1]) returns [1, 2, 3]\n",
    "- cumulative_sum([1, 2, 3, 4]) returns [1, 3, 6, 10]"
   ]
  },
  {
   "cell_type": "code",
   "execution_count": null,
   "id": "3f853c10",
   "metadata": {},
   "outputs": [],
   "source": [
    "sample_lst = [1, 2, 3, 4, 5, '6']\n",
    "def cumulative_sum(lst):\n",
    "    counter = 0\n",
    "    for item in lst:\n",
    "        if type(item) != int:\n",
    "            counter = counter + 1\n",
    "    if counter >= 1:\n",
    "         print('Your list must be made up of numbers only.')\n",
    "    sum_acc = 0\n",
    "    function_lst = []\n",
    "    if counter == 0:\n",
    "        for item in lst:\n",
    "            sum_acc = sum_acc + item\n",
    "            function_lst.append(sum_acc)\n",
    "        return function_lst\n",
    "\n",
    "cumulative_sum(sample_lst)"
   ]
  },
  {
   "cell_type": "markdown",
   "id": "44dd815b",
   "metadata": {},
   "source": [
    "#### Additional Exercise\n",
    "- Once you've completed the above exercises, follow the directions from https://gist.github.com/zgulde/ec8ed80ad8216905cda83d5645c60886 in order to thouroughly comment your code to explain your code."
   ]
  },
  {
   "cell_type": "code",
   "execution_count": null,
   "id": "6abb42ad",
   "metadata": {},
   "outputs": [],
   "source": []
  },
  {
   "cell_type": "markdown",
   "id": "8c40c5de",
   "metadata": {},
   "source": [
    "#### Bonus\n",
    "1. Create a function named twelveto24. It should accept a string in the format 10:45am or 4:30pm and return a string that is the representation of the time in a 24-hour format. Bonus write a function that does the opposite."
   ]
  },
  {
   "cell_type": "code",
   "execution_count": null,
   "id": "edd0ee80",
   "metadata": {},
   "outputs": [],
   "source": [
    "#def twelveto24():"
   ]
  },
  {
   "cell_type": "markdown",
   "id": "cbdf8bcc",
   "metadata": {},
   "source": [
    "2. Create a function named col_index. It should accept a spreadsheet column name, and return the index number of the column.\n",
    " - col_index('A') returns 1\n",
    " - col_index('B') returns 2\n",
    " - col_index('AA') returns 27"
   ]
  },
  {
   "cell_type": "code",
   "execution_count": null,
   "id": "9b3b5b49",
   "metadata": {},
   "outputs": [],
   "source": []
  },
  {
   "cell_type": "code",
   "execution_count": null,
   "id": "5fe5a757",
   "metadata": {},
   "outputs": [],
   "source": [
    "   "
   ]
  },
  {
   "cell_type": "code",
   "execution_count": null,
   "id": "425a9798",
   "metadata": {},
   "outputs": [],
   "source": []
  },
  {
   "cell_type": "code",
   "execution_count": null,
   "id": "08c49c8a",
   "metadata": {},
   "outputs": [],
   "source": []
  }
 ],
 "metadata": {
  "kernelspec": {
   "display_name": "Python 3 (ipykernel)",
   "language": "python",
   "name": "python3"
  },
  "language_info": {
   "codemirror_mode": {
    "name": "ipython",
    "version": 3
   },
   "file_extension": ".py",
   "mimetype": "text/x-python",
   "name": "python",
   "nbconvert_exporter": "python",
   "pygments_lexer": "ipython3",
   "version": "3.7.3"
  }
 },
 "nbformat": 4,
 "nbformat_minor": 5
}
