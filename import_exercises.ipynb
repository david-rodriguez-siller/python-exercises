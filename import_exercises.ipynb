{
 "cells": [
  {
   "cell_type": "markdown",
   "id": "6c2eeddc",
   "metadata": {},
   "source": [
    "### Import Exercises"
   ]
  },
  {
   "cell_type": "markdown",
   "id": "c076ddeb",
   "metadata": {},
   "source": [
    "#### 1. Import and test 3 of the functions from your functions exercise file. Import each function in a different way:\n",
    " - Run an interactive python session and import the module. Call the is_vowel function using the . syntax.\n",
    " - Create a file named import_exericses.py. Within this file, use from to import the calculate_tip function directly. Call this function with values you choose and print the result.\n",
    " - Create a jupyter notebook named import_exercises.ipynb. Use from to import the get_letter_grade function and give it an alias. Test this function in your notebook.\n",
    " \n",
    "Make sure our code that tests the function imports is run from the same directory that your functions exercise file is in."
   ]
  },
  {
   "cell_type": "markdown",
   "id": "3785ee2d",
   "metadata": {},
   "source": [
    "#### .syntax"
   ]
  },
  {
   "cell_type": "code",
   "execution_count": 22,
   "id": "d54b13ca",
   "metadata": {},
   "outputs": [
    {
     "data": {
      "text/plain": [
       "True"
      ]
     },
     "execution_count": 22,
     "metadata": {},
     "output_type": "execute_result"
    }
   ],
   "source": [
    "import function_exercises as fe\n",
    "sample_string = 'a'\n",
    "fe.is_vowel(sample_string)"
   ]
  },
  {
   "cell_type": "markdown",
   "id": "eb51a381",
   "metadata": {},
   "source": [
    "#### from"
   ]
  },
  {
   "cell_type": "code",
   "execution_count": 23,
   "id": "ab32c5f8",
   "metadata": {},
   "outputs": [],
   "source": [
    "from function_exercises import calculate_tip"
   ]
  },
  {
   "cell_type": "code",
   "execution_count": 24,
   "id": "a602c24a",
   "metadata": {},
   "outputs": [
    {
     "name": "stdout",
     "output_type": "stream",
     "text": [
      "Your bill total is: $100\n",
      "Your desired 20.0% tip is: $20.0\n"
     ]
    }
   ],
   "source": [
    "calculate_tip(.2, 100)"
   ]
  },
  {
   "cell_type": "markdown",
   "id": "37101f01",
   "metadata": {},
   "source": [
    "#### from alias"
   ]
  },
  {
   "cell_type": "code",
   "execution_count": 26,
   "id": "9318b689",
   "metadata": {},
   "outputs": [],
   "source": [
    "from function_exercises import get_letter_grade as glg"
   ]
  },
  {
   "cell_type": "code",
   "execution_count": 27,
   "id": "b8981f3d",
   "metadata": {},
   "outputs": [
    {
     "name": "stdout",
     "output_type": "stream",
     "text": [
      "Your grade is A\n"
     ]
    }
   ],
   "source": [
    "glg(94)"
   ]
  },
  {
   "cell_type": "markdown",
   "id": "b8a2f5a3",
   "metadata": {},
   "source": [
    "#### 2. Read about and use the itertools module from the python standard library to help you solve the following problems:\n",
    " - How many different ways can you combine the letters from \"abc\" with the numbers 1, 2, and 3?\n",
    " - How many different combinations are there of 2 letters from \"abcd\"?\n",
    " - How many different permutations are there of 2 letters from \"abcd\"?"
   ]
  },
  {
   "cell_type": "code",
   "execution_count": 44,
   "id": "8ae890c9",
   "metadata": {},
   "outputs": [
    {
     "name": "stdout",
     "output_type": "stream",
     "text": [
      "There are 720 different ways to combine letters a, b and c with numbers 1, 2, and 3.\n"
     ]
    }
   ],
   "source": [
    "import itertools\n",
    "\n",
    "counter = 0\n",
    "for item in itertools.permutations('abc123', 6):\n",
    "    counter = counter + 1\n",
    "print('There are {} different ways to combine letters a, b and c with numbers 1, 2, and 3.'.format(counter))"
   ]
  },
  {
   "cell_type": "code",
   "execution_count": 47,
   "id": "76923b6b",
   "metadata": {},
   "outputs": [
    {
     "name": "stdout",
     "output_type": "stream",
     "text": [
      "There are 6 different combinations of 2 letters from letters a, b, c, and d.\n"
     ]
    }
   ],
   "source": [
    "counter = 0\n",
    "for item in itertools.combinations('abcd', 2):\n",
    "    counter = counter + 1\n",
    "print('There are {} different combinations of 2 letters from letters a, b, c, and d.'.format(counter))"
   ]
  },
  {
   "cell_type": "code",
   "execution_count": 48,
   "id": "d5bfff04",
   "metadata": {},
   "outputs": [
    {
     "name": "stdout",
     "output_type": "stream",
     "text": [
      "There are 12 different permutations of 2 letters from letters a, b, c, and d.\n"
     ]
    }
   ],
   "source": [
    "counter = 0\n",
    "for item in itertools.permutations('abcd', 2):\n",
    "    counter = counter + 1\n",
    "print('There are {} different permutations of 2 letters from letters a, b, c, and d.'.format(counter))"
   ]
  },
  {
   "cell_type": "markdown",
   "id": "d0ba1b28",
   "metadata": {},
   "source": [
    "#### 3. Save this file as profiles.json inside of your exercises directory (right click -> save file as...). Use the load function from the json module to open this file.\n",
    "\n",
    "Your code should produce a list of dictionaries. Using this data, write some code that calculates and outputs the following information:\n",
    "\n",
    " - Total number of users\n",
    " - Number of active users\n",
    " - Number of inactive users\n",
    " - Grand total of balances for all users\n",
    " - Average balance per user\n",
    " - User with the lowest balance\n",
    " - User with the highest balance\n",
    " - Most common favorite fruit\n",
    " - Least most common favorite fruit\n",
    " - Total number of unread messages for all users"
   ]
  },
  {
   "cell_type": "code",
   "execution_count": 53,
   "id": "aa484cb3",
   "metadata": {},
   "outputs": [],
   "source": [
    "import json\n",
    "\n",
    "profiles = json.load(open('profiles.json'))"
   ]
  },
  {
   "cell_type": "markdown",
   "id": "b3ccfbc8",
   "metadata": {},
   "source": [
    "#### Total number of users"
   ]
  },
  {
   "cell_type": "code",
   "execution_count": 56,
   "id": "589a0524",
   "metadata": {},
   "outputs": [
    {
     "name": "stdout",
     "output_type": "stream",
     "text": [
      "The total number of users is: 19\n"
     ]
    }
   ],
   "source": [
    "counter = 0\n",
    "for item in profiles:\n",
    "    counter = counter + 1\n",
    "print('The total number of users is: {}'.format(counter))"
   ]
  },
  {
   "cell_type": "markdown",
   "id": "518b5ccf",
   "metadata": {},
   "source": [
    "#### Number of active users"
   ]
  },
  {
   "cell_type": "code",
   "execution_count": 57,
   "id": "6b68858e",
   "metadata": {},
   "outputs": [
    {
     "name": "stdout",
     "output_type": "stream",
     "text": [
      "The total number of active users is: 9\n"
     ]
    }
   ],
   "source": [
    "counter = 0\n",
    "for item in profiles:\n",
    "    if item['isActive'] == True:\n",
    "        counter = counter + 1\n",
    "print('The total number of active users is: {}'.format(counter))"
   ]
  },
  {
   "cell_type": "markdown",
   "id": "2ecad7b4",
   "metadata": {},
   "source": [
    "#### Number of inactive users"
   ]
  },
  {
   "cell_type": "code",
   "execution_count": 58,
   "id": "e07cb866",
   "metadata": {},
   "outputs": [
    {
     "name": "stdout",
     "output_type": "stream",
     "text": [
      "The total number of inactive users is: 10\n"
     ]
    }
   ],
   "source": [
    "counter = 0\n",
    "for item in profiles:\n",
    "    if item['isActive'] == False:\n",
    "        counter = counter + 1\n",
    "print('The total number of inactive users is: {}'.format(counter))"
   ]
  },
  {
   "cell_type": "markdown",
   "id": "c266b086",
   "metadata": {},
   "source": [
    "#### Grand total of balances for all users"
   ]
  },
  {
   "cell_type": "code",
   "execution_count": 69,
   "id": "ff65ff8b",
   "metadata": {},
   "outputs": [
    {
     "name": "stdout",
     "output_type": "stream",
     "text": [
      "The grand total of balances fro all users is: $52667.02\n"
     ]
    }
   ],
   "source": [
    "balance = 0\n",
    "for item in profiles:\n",
    "    remove = item['balance'].replace('$', '').replace(',', '')\n",
    "    balance = float(remove) + balance\n",
    "print('The grand total of balances fro all users is: ${}'.format(balance))"
   ]
  },
  {
   "cell_type": "markdown",
   "id": "3a18cf5d",
   "metadata": {},
   "source": [
    "#### Average balance per user"
   ]
  },
  {
   "cell_type": "code",
   "execution_count": 71,
   "id": "6eacf216",
   "metadata": {},
   "outputs": [
    {
     "name": "stdout",
     "output_type": "stream",
     "text": [
      "The average balance per user is: $2771.9484210526316\n"
     ]
    }
   ],
   "source": [
    "balance = 0\n",
    "counter = 0\n",
    "for item in profiles:\n",
    "    remove = item['balance'].replace('$', '').replace(',', '')\n",
    "    balance = float(remove) + balance\n",
    "for item in profiles:\n",
    "    counter = counter + 1        \n",
    "print('The average balance per user is: ${}'.format(balance/counter))"
   ]
  },
  {
   "cell_type": "markdown",
   "id": "47699ee3",
   "metadata": {},
   "source": [
    "#### User with the lowest balance"
   ]
  },
  {
   "cell_type": "code",
   "execution_count": 80,
   "id": "eb65c22a",
   "metadata": {},
   "outputs": [
    {
     "name": "stdout",
     "output_type": "stream",
     "text": [
      "The user with the lowest balance is: Avery Flynn\n"
     ]
    }
   ],
   "source": [
    "lst = []\n",
    "user = 0\n",
    "for item in profiles:\n",
    "    lst.append(item['balance'])\n",
    "for item in profiles:\n",
    "    if item['balance'] == min(lst):\n",
    "        user = item['name']\n",
    "print('The user with the lowest balance is: {}'.format(user))"
   ]
  },
  {
   "cell_type": "markdown",
   "id": "2de55471",
   "metadata": {},
   "source": [
    "#### User with the highest balances"
   ]
  },
  {
   "cell_type": "code",
   "execution_count": 81,
   "id": "3bd9379d",
   "metadata": {},
   "outputs": [
    {
     "name": "stdout",
     "output_type": "stream",
     "text": [
      "The user with the lowest balance is: Fay Hammond\n"
     ]
    }
   ],
   "source": [
    "lst = []\n",
    "user = 0\n",
    "for item in profiles:\n",
    "    lst.append(item['balance'])\n",
    "for item in profiles:\n",
    "    if item['balance'] == max(lst):\n",
    "        user = item['name']\n",
    "print('The user with the lowest balance is: {}'.format(user))"
   ]
  },
  {
   "cell_type": "markdown",
   "id": "41e08919",
   "metadata": {},
   "source": [
    "#### Most common favorite fruit"
   ]
  },
  {
   "cell_type": "code",
   "execution_count": 85,
   "id": "a4e744c0",
   "metadata": {},
   "outputs": [
    {
     "name": "stdout",
     "output_type": "stream",
     "text": [
      "The most common favorite fruit is: strawberry\n"
     ]
    }
   ],
   "source": [
    "lst = []\n",
    "for item in profiles:\n",
    "    lst.append(item['favoriteFruit'])\n",
    "def most_common(fruit):\n",
    "    mcf = max(set(fruit), key = fruit.count)\n",
    "    print('The most common favorite fruit is: {}'.format(mcf))\n",
    "most_common(lst)"
   ]
  },
  {
   "cell_type": "markdown",
   "id": "e5489681",
   "metadata": {},
   "source": [
    "#### Least most common favorite fruit"
   ]
  },
  {
   "cell_type": "code",
   "execution_count": 87,
   "id": "4ab21cc3",
   "metadata": {},
   "outputs": [
    {
     "name": "stdout",
     "output_type": "stream",
     "text": [
      "The least common favorite fruit is: apple\n"
     ]
    }
   ],
   "source": [
    "lst = []\n",
    "for item in profiles:\n",
    "    lst.append(item['favoriteFruit'])\n",
    "def least_common(fruit):\n",
    "    lcf = min(set(fruit), key = fruit.count)\n",
    "    print('The least common favorite fruit is: {}'.format(lcf))\n",
    "least_common(lst)"
   ]
  },
  {
   "cell_type": "markdown",
   "id": "27eb84f6",
   "metadata": {},
   "source": [
    "#### Total number of unread messages for all users"
   ]
  },
  {
   "cell_type": "code",
   "execution_count": 120,
   "id": "94c24502",
   "metadata": {},
   "outputs": [
    {
     "name": "stdout",
     "output_type": "stream",
     "text": [
      "The total number of unread messages for all users is: 210\n"
     ]
    }
   ],
   "source": [
    "greetings = []\n",
    "counter = 0\n",
    "for item in profiles:\n",
    "    greetings.append(item['greeting'])\n",
    "for word in greetings:\n",
    "    split_list = word.split()\n",
    "    counter = counter + int(split_list[-3])\n",
    "print(\"The total number of unread messages for all users is: {}\".format(counter))"
   ]
  }
 ],
 "metadata": {
  "kernelspec": {
   "display_name": "Python 3 (ipykernel)",
   "language": "python",
   "name": "python3"
  },
  "language_info": {
   "codemirror_mode": {
    "name": "ipython",
    "version": 3
   },
   "file_extension": ".py",
   "mimetype": "text/x-python",
   "name": "python",
   "nbconvert_exporter": "python",
   "pygments_lexer": "ipython3",
   "version": "3.7.3"
  }
 },
 "nbformat": 4,
 "nbformat_minor": 5
}
